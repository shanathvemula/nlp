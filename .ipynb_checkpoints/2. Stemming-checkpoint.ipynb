{
 "cells": [
  {
   "cell_type": "markdown",
   "id": "81fbacd6-46f9-46a0-9946-62b4ddf51052",
   "metadata": {},
   "source": [
    "## Stemming\n",
    "Stemming is the process of reducing a word to its word stem that affixes to suffixes and prefixes or to the roots of words known as a lemma. Stemming is important in natural language understanding (NLU) and natural language processing (NLP)."
   ]
  },
  {
   "cell_type": "code",
   "execution_count": 19,
   "id": "70a62a25-ef76-4784-8073-cd74315ab020",
   "metadata": {},
   "outputs": [],
   "source": [
    "## Classification Problem\n",
    "## Comments of product is a positive review or negative review\n",
    "## Reviews\n",
    "## [eating, eat,eaten] --> eat \n",
    "## [going,gone,goes]--->go\n",
    "\n",
    "words=[\"eating\",\"eats\",\"eaten\",\"writing\",\"writes\",\"programming\",\"programs\",\"history\",\"finally\",\"finalized\"]"
   ]
  },
  {
   "cell_type": "code",
   "execution_count": 4,
   "id": "c8e1d476-20c4-49b2-a339-6cab41f4c596",
   "metadata": {},
   "outputs": [
    {
     "data": {
      "text/plain": [
       "['eating',\n",
       " 'eats',\n",
       " 'eaten',\n",
       " 'writing',\n",
       " 'writes',\n",
       " 'programming',\n",
       " 'programs',\n",
       " 'history',\n",
       " 'finally',\n",
       " 'finalized']"
      ]
     },
     "execution_count": 4,
     "metadata": {},
     "output_type": "execute_result"
    }
   ],
   "source": [
    "words"
   ]
  },
  {
   "cell_type": "markdown",
   "id": "c8736707-e54a-4f34-b12b-909236b18309",
   "metadata": {},
   "source": [
    "### PorterStemmer"
   ]
  },
  {
   "cell_type": "code",
   "execution_count": 5,
   "id": "6ce1735d-d6a1-4d30-b8dc-37c9e0447a53",
   "metadata": {},
   "outputs": [],
   "source": [
    "from nltk.stem import PorterStemmer"
   ]
  },
  {
   "cell_type": "code",
   "execution_count": 6,
   "id": "b12b5d8a-d9e4-4c5d-87aa-61bb8bd1c34a",
   "metadata": {},
   "outputs": [
    {
     "name": "stdout",
     "output_type": "stream",
     "text": [
      "eating ----> eat\n",
      "eats ----> eat\n",
      "eaten ----> eaten\n",
      "writing ----> write\n",
      "writes ----> write\n",
      "programming ----> program\n",
      "programs ----> program\n",
      "history ----> histori\n",
      "finally ----> final\n",
      "finalized ----> final\n"
     ]
    }
   ],
   "source": [
    "stemming = PorterStemmer()\n",
    "\n",
    "for word in words:\n",
    "    print(word + \" ----> \"+stemming.stem(word=word))"
   ]
  },
  {
   "cell_type": "code",
   "execution_count": 7,
   "id": "4a402fe5-2123-448f-84c9-2ea52b08eead",
   "metadata": {},
   "outputs": [
    {
     "data": {
      "text/plain": [
       "'congratul'"
      ]
     },
     "execution_count": 7,
     "metadata": {},
     "output_type": "execute_result"
    }
   ],
   "source": [
    "stemming.stem('congratulations')"
   ]
  },
  {
   "cell_type": "markdown",
   "id": "7707c2a0",
   "metadata": {},
   "source": [
    "### RegexpStemmer class\n",
    "NLTK has RegexpStemmer class with the help of which we can easily implement Regular Expression Stemmer algorithms. It basically takes a single regular expression and removes any prefix or suffix that matches the expression."
   ]
  },
  {
   "cell_type": "markdown",
   "id": "f6abbbd5",
   "metadata": {},
   "source": [
    "A stemmer that uses regular expressions to identify morphological (Regular Experssion) affixes. Any substrings that match the regular expressions will be removed."
   ]
  },
  {
   "cell_type": "code",
   "execution_count": 49,
   "id": "e839d87a-d276-41c3-9210-b40740761983",
   "metadata": {},
   "outputs": [],
   "source": [
    "from nltk.stem import RegexpStemmer"
   ]
  },
  {
   "cell_type": "markdown",
   "id": "71c4b921",
   "metadata": {},
   "source": [
    "Parameters\n",
    "regexp : str or regexp\n",
    "The regular expression that should be used to identify morphological affixes.\n",
    "\n",
    "min : int\n",
    "The minimum length of string to stem"
   ]
  },
  {
   "cell_type": "code",
   "execution_count": 50,
   "id": "d0303616-2814-455a-8533-114fe744edda",
   "metadata": {},
   "outputs": [],
   "source": [
    "reg_stemmer = RegexpStemmer('ing$|s$|e$|able$', min=4)"
   ]
  },
  {
   "cell_type": "code",
   "execution_count": 51,
   "id": "570a863f-22b2-412d-8a82-f8811ded1b92",
   "metadata": {},
   "outputs": [
    {
     "data": {
      "text/plain": [
       "'eat'"
      ]
     },
     "execution_count": 51,
     "metadata": {},
     "output_type": "execute_result"
    }
   ],
   "source": [
    "reg_stemmer.stem('eating')"
   ]
  },
  {
   "cell_type": "code",
   "execution_count": 52,
   "id": "3f7506df-714c-4ec5-89fd-32666b0200e8",
   "metadata": {},
   "outputs": [
    {
     "data": {
      "text/plain": [
       "'ingeat'"
      ]
     },
     "execution_count": 52,
     "metadata": {},
     "output_type": "execute_result"
    }
   ],
   "source": [
    "reg_stemmer.stem('ingeating')"
   ]
  },
  {
   "cell_type": "code",
   "execution_count": 53,
   "id": "0bb6267e-fc27-4b8e-b5e3-7ec176341501",
   "metadata": {},
   "outputs": [],
   "source": [
    "reg_stemmer = RegexpStemmer('ing|s$|e$|able$', min=4)"
   ]
  },
  {
   "cell_type": "code",
   "execution_count": 54,
   "id": "712e7dd5-8642-4aea-9ec6-3a1daafc734c",
   "metadata": {},
   "outputs": [
    {
     "data": {
      "text/plain": [
       "'eat'"
      ]
     },
     "execution_count": 54,
     "metadata": {},
     "output_type": "execute_result"
    }
   ],
   "source": [
    "reg_stemmer.stem('eating')"
   ]
  },
  {
   "cell_type": "code",
   "execution_count": 55,
   "id": "0d13631c-5800-434d-a687-fa5b25837732",
   "metadata": {},
   "outputs": [
    {
     "data": {
      "text/plain": [
       "'eat'"
      ]
     },
     "execution_count": 55,
     "metadata": {},
     "output_type": "execute_result"
    }
   ],
   "source": [
    "reg_stemmer.stem('ingeating')"
   ]
  },
  {
   "cell_type": "code",
   "execution_count": null,
   "id": "8283bf73",
   "metadata": {},
   "outputs": [],
   "source": []
  },
  {
   "cell_type": "markdown",
   "id": "791a0578",
   "metadata": {},
   "source": [
    "### Snowball Stemmer\n",
    " It is a stemming algorithm which is also known as the Porter2 stemming algorithm as it is a better version of the Porter Stemmer since some issues of it were fixed in this stemmer."
   ]
  },
  {
   "cell_type": "markdown",
   "id": "7a618efc",
   "metadata": {},
   "source": [
    "The following languages are supported: Arabic, Danish, Dutch, English, Finnish, French, German, Hungarian, Italian, Norwegian, Portuguese, Romanian, Russian, Spanish and Swedish.\n",
    "\n",
    "Invoking the stemmers that way is useful if you do not know the language to be stemmed at runtime. Alternatively, if you already know the language, then you can invoke the language specific stemmer directly:\n",
    "\n"
   ]
  },
  {
   "cell_type": "markdown",
   "id": "2b0eafe8",
   "metadata": {},
   "source": [
    "##### Parameters\n",
    "language : str or unicode\n",
    "The language whose subclass is instantiated.\n",
    "\n",
    "ignore_stopwords : bool\n",
    "If set to True, stopwords are not stemmed and returned unchanged. Set to False by default.\n",
    "\n",
    "##### Raises\n",
    "ValueError\n",
    "If there is no stemmer for the specified language, a ValueError is raised"
   ]
  },
  {
   "cell_type": "code",
   "execution_count": 16,
   "id": "7f90d431-c103-463f-9b79-fd17ca6768bd",
   "metadata": {},
   "outputs": [],
   "source": [
    "from nltk.stem import SnowballStemmer"
   ]
  },
  {
   "cell_type": "code",
   "execution_count": 22,
   "id": "cde40057-8c0d-4358-b42e-b838c8b988b9",
   "metadata": {},
   "outputs": [],
   "source": [
    "snowballstemmer = SnowballStemmer(language='english')"
   ]
  },
  {
   "cell_type": "code",
   "execution_count": 24,
   "id": "9a2d7583-4092-4fb0-86c7-8c9a0a082736",
   "metadata": {},
   "outputs": [
    {
     "name": "stdout",
     "output_type": "stream",
     "text": [
      "eating ---> eat\n",
      "eats ---> eat\n",
      "eaten ---> eaten\n",
      "writing ---> write\n",
      "writes ---> write\n",
      "programming ---> program\n",
      "programs ---> program\n",
      "history ---> histori\n",
      "finally ---> final\n",
      "finalized ---> final\n"
     ]
    }
   ],
   "source": [
    "for word in words:\n",
    "    print(word+\" ---> \"+snowballstemmer.stem(word))"
   ]
  },
  {
   "cell_type": "code",
   "execution_count": null,
   "id": "d9201e7a-68ef-4132-90db-198f391f5e31",
   "metadata": {},
   "outputs": [],
   "source": []
  },
  {
   "cell_type": "code",
   "execution_count": 25,
   "id": "83c9d759-ffb1-4bcb-bc8b-ec78519b67e3",
   "metadata": {},
   "outputs": [
    {
     "data": {
      "text/plain": [
       "('fairli', 'sportingli')"
      ]
     },
     "execution_count": 25,
     "metadata": {},
     "output_type": "execute_result"
    }
   ],
   "source": [
    "stemming.stem('fairly'), stemming.stem('sportingly')"
   ]
  },
  {
   "cell_type": "code",
   "execution_count": 27,
   "id": "78c0cb13-5ecd-4011-86bd-c6cf0136811c",
   "metadata": {},
   "outputs": [
    {
     "data": {
      "text/plain": [
       "('fair', 'sport')"
      ]
     },
     "execution_count": 27,
     "metadata": {},
     "output_type": "execute_result"
    }
   ],
   "source": [
    "snowballstemmer.stem('fairly'), snowballstemmer.stem('sportingly')"
   ]
  },
  {
   "cell_type": "code",
   "execution_count": null,
   "id": "7132375c-e5ff-4a72-9484-87600de13c89",
   "metadata": {},
   "outputs": [],
   "source": []
  },
  {
   "cell_type": "code",
   "execution_count": null,
   "id": "341233a1-4d68-411c-b561-fadd69042491",
   "metadata": {},
   "outputs": [],
   "source": []
  },
  {
   "cell_type": "code",
   "execution_count": null,
   "id": "6e643e53-c1db-48e9-aba8-26bcd3dc3ec2",
   "metadata": {},
   "outputs": [],
   "source": []
  },
  {
   "cell_type": "code",
   "execution_count": null,
   "id": "20d0206a-c109-4cb6-8de0-b8b39e12568d",
   "metadata": {},
   "outputs": [],
   "source": []
  },
  {
   "cell_type": "code",
   "execution_count": null,
   "id": "bb45a28f-c188-46cc-ac28-9846d1ed418c",
   "metadata": {},
   "outputs": [],
   "source": []
  },
  {
   "cell_type": "code",
   "execution_count": null,
   "id": "fdb0c4d3-a534-40b9-85e4-6aaeee35f252",
   "metadata": {},
   "outputs": [],
   "source": []
  },
  {
   "cell_type": "code",
   "execution_count": null,
   "id": "ae64bbc3-a0e1-4c9c-9fd2-1752e35fdcb1",
   "metadata": {},
   "outputs": [],
   "source": []
  },
  {
   "cell_type": "code",
   "execution_count": null,
   "id": "3d574182-cac3-47a1-80c1-045dbe86b376",
   "metadata": {},
   "outputs": [],
   "source": []
  },
  {
   "cell_type": "code",
   "execution_count": null,
   "id": "cbd00d83-7291-4db6-9772-a23a93a41075",
   "metadata": {},
   "outputs": [],
   "source": []
  }
 ],
 "metadata": {
  "kernelspec": {
   "display_name": "venv",
   "language": "python",
   "name": "python3"
  },
  "language_info": {
   "codemirror_mode": {
    "name": "ipython",
    "version": 3
   },
   "file_extension": ".py",
   "mimetype": "text/x-python",
   "name": "python",
   "nbconvert_exporter": "python",
   "pygments_lexer": "ipython3",
   "version": "3.13.3"
  }
 },
 "nbformat": 4,
 "nbformat_minor": 5
}
